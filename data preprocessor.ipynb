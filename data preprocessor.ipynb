{
 "cells": [
  {
   "cell_type": "code",
   "execution_count": 2,
   "metadata": {},
   "outputs": [
    {
     "name": "stdout",
     "output_type": "stream",
     "text": [
      "/mnt/d/LocalGit/NTNU_mscThesis\n"
     ]
    }
   ],
   "source": [
    "import os\n",
    "import shutil\n",
    "\n",
    "HOME = os.getcwd()\n",
    "print(HOME)"
   ]
  },
  {
   "cell_type": "code",
   "execution_count": 3,
   "metadata": {},
   "outputs": [],
   "source": [
    "# copy all target file names to a txt list\n",
    "with open(\"obj_image_filenames.txt\", \"w\") as a:\n",
    "    for path, subdirs, files in os.walk(r'./datasets/labels_withObj'):\n",
    "       for filename in files:\n",
    "        #  f = os.path.join(path, filename)\n",
    "         a.write((str(filename) + os.linesep).replace(\".txt\", \".jpg\",-1))"
   ]
  },
  {
   "cell_type": "code",
   "execution_count": 19,
   "metadata": {},
   "outputs": [],
   "source": [
    "# copy all files from a text list to a desired folder\n",
    "\n",
    "fileListingFile = \"obj_image_filenames.txt\"\n",
    "\n",
    "imgto = \"datasets/bad\"\n",
    "imgfrom = \"datasets/SeaDronesSee-ODV2-2/train/images\"\n",
    "\n",
    "with open(fileListingFile, \"r\") as file:\n",
    "    fileNames = [file.strip() for file in file.readlines()]\n",
    "\n",
    "fileNames[0]\n",
    "for file in fileNames:\n",
    "    if os.path.isfile(os.path.join(imgfrom, file)):\n",
    "        shutil.copy(os.path.join(imgfrom, file), os.path.join(imgto, file))"
   ]
  }
 ],
 "metadata": {
  "kernelspec": {
   "display_name": "jupyolo",
   "language": "python",
   "name": "python3"
  },
  "language_info": {
   "codemirror_mode": {
    "name": "ipython",
    "version": 3
   },
   "file_extension": ".py",
   "mimetype": "text/x-python",
   "name": "python",
   "nbconvert_exporter": "python",
   "pygments_lexer": "ipython3",
   "version": "3.10.9"
  },
  "orig_nbformat": 4
 },
 "nbformat": 4,
 "nbformat_minor": 2
}
