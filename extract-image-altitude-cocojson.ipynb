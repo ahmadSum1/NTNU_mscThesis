{
 "cells": [
  {
   "cell_type": "code",
   "execution_count": 28,
   "metadata": {},
   "outputs": [],
   "source": [
    "# Originally from https://github.com/Ben93kie/SeaDronesSee/blob/main/utils/jsonTotxt.py\n",
    "import json\n",
    "import os\n",
    "from pathlib import Path\n",
    "import time\n",
    "\n",
    "def extract_height_from_cocojson(annotation_file=\"./\", output_path=\"./\"):\n",
    "    categories = {\"0\":\"ignored\", \"1\":\"swimmer\", \"2\":\"boat\",\"3\":\"jetski\",\"4\":\"life_saving_appliances\",\"5\":\"buoy\"}\n",
    "\n",
    "    scriptTime = time.time()\n",
    "\n",
    "    with open(annotation_file) as f:\n",
    "        file = json.load(f)\n",
    "        \n",
    "    Path(output_path).mkdir(parents=True, exist_ok=True)\n",
    "\n",
    "    for img in file['images']:\n",
    "    # for img in file['images'][-5:]:         #only first/last n for testing\n",
    "        img_file_name = str(img['id']) + \".jpg\"\n",
    "        # img_file_name = img['file_name']\n",
    "        altitude = None\n",
    "        for key in ['altitude', 'height_above_takeoff(meter)', 'null']:\n",
    "            if img.get('meta') and key in img['meta']:\n",
    "                altitude = img['meta'][key]\n",
    "                break\n",
    "        # height = img['meta']['height_above_takeoff(meter)']\n",
    "        if altitude is not None:\n",
    "            filename = f\"{img_file_name}_altitude.txt\"\n",
    "            with open(os.path.join(output_path , filename), 'w') as f:\n",
    "                f.write(str(altitude))\n",
    "\n",
    "    scriptRunTime = time.time() - scriptTime\n",
    "    print('\\nScript run time in seconds:',scriptRunTime)\n"
   ]
  },
  {
   "cell_type": "code",
   "execution_count": 22,
   "metadata": {},
   "outputs": [
    {
     "name": "stdout",
     "output_type": "stream",
     "text": [
      "\n",
      "Script run time in seconds: 4.820542335510254\n"
     ]
    }
   ],
   "source": [
    "extract_height_from_cocojson('datasets/SeaDronesSee-ODV2_yolo/valid/instances_val.json', 'datasets/SeaDronesSee-ODV2_yolo/valid/altitude')"
   ]
  },
  {
   "cell_type": "code",
   "execution_count": 23,
   "metadata": {},
   "outputs": [
    {
     "name": "stdout",
     "output_type": "stream",
     "text": [
      "\n",
      "Script run time in seconds: 27.192679166793823\n"
     ]
    }
   ],
   "source": [
    "extract_height_from_cocojson('datasets/SeaDronesSee-ODV2_yolo/train/instances_train.json', 'datasets/SeaDronesSee-ODV2_yolo/train/altitude')"
   ]
  },
  {
   "cell_type": "code",
   "execution_count": 29,
   "metadata": {},
   "outputs": [
    {
     "name": "stdout",
     "output_type": "stream",
     "text": [
      "\n",
      "Script run time in seconds: 11.679486513137817\n"
     ]
    }
   ],
   "source": [
    "extract_height_from_cocojson('datasets/SeaDronesSee-ODV2_yolo/instances_test_nogt.json', 'datasets/SeaDronesSee-ODV2_yolo/test/altitude')"
   ]
  }
 ],
 "metadata": {
  "kernelspec": {
   "display_name": "jupyolo",
   "language": "python",
   "name": "python3"
  },
  "language_info": {
   "codemirror_mode": {
    "name": "ipython",
    "version": 3
   },
   "file_extension": ".py",
   "mimetype": "text/x-python",
   "name": "python",
   "nbconvert_exporter": "python",
   "pygments_lexer": "ipython3",
   "version": "3.10.9"
  },
  "orig_nbformat": 4
 },
 "nbformat": 4,
 "nbformat_minor": 2
}
