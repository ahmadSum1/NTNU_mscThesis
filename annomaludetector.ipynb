{
 "cells": [
  {
   "cell_type": "code",
   "execution_count": 1,
   "metadata": {},
   "outputs": [
    {
     "name": "stdout",
     "output_type": "stream",
     "text": [
      "/mnt/d/LocalGit/NTNU_mscThesis\n"
     ]
    }
   ],
   "source": [
    "import os\n",
    "HOME = os.getcwd()\n",
    "print(HOME)"
   ]
  },
  {
   "cell_type": "code",
   "execution_count": 4,
   "metadata": {},
   "outputs": [],
   "source": [
    "# set up environment\n",
    "os.environ[\"DATASET_DIRECTORY\"] = HOME+\"/datasets\""
   ]
  },
  {
   "cell_type": "code",
   "execution_count": 5,
   "metadata": {},
   "outputs": [
    {
     "name": "stdout",
     "output_type": "stream",
     "text": [
      "Requirement already satisfied: roboflow in /home/skb/miniconda3/envs/jupyolo/lib/python3.10/site-packages (0.2.32)\n",
      "Requirement already satisfied: tqdm>=4.41.0 in /home/skb/miniconda3/envs/jupyolo/lib/python3.10/site-packages (from roboflow) (4.64.1)\n",
      "Requirement already satisfied: pyparsing==2.4.7 in /home/skb/miniconda3/envs/jupyolo/lib/python3.10/site-packages (from roboflow) (2.4.7)\n",
      "Requirement already satisfied: Pillow>=7.1.2 in /home/skb/miniconda3/envs/jupyolo/lib/python3.10/site-packages (from roboflow) (9.4.0)\n",
      "Requirement already satisfied: PyYAML>=5.3.1 in /home/skb/miniconda3/envs/jupyolo/lib/python3.10/site-packages (from roboflow) (6.0)\n",
      "Requirement already satisfied: kiwisolver>=1.3.1 in /home/skb/miniconda3/envs/jupyolo/lib/python3.10/site-packages (from roboflow) (1.4.4)\n",
      "Requirement already satisfied: matplotlib in /home/skb/miniconda3/envs/jupyolo/lib/python3.10/site-packages (from roboflow) (3.7.0)\n",
      "Requirement already satisfied: numpy>=1.18.5 in /home/skb/miniconda3/envs/jupyolo/lib/python3.10/site-packages (from roboflow) (1.23.5)\n",
      "Requirement already satisfied: idna==2.10 in /home/skb/miniconda3/envs/jupyolo/lib/python3.10/site-packages (from roboflow) (2.10)\n",
      "Requirement already satisfied: urllib3>=1.26.6 in /home/skb/miniconda3/envs/jupyolo/lib/python3.10/site-packages (from roboflow) (1.26.14)\n",
      "Requirement already satisfied: cycler==0.10.0 in /home/skb/miniconda3/envs/jupyolo/lib/python3.10/site-packages (from roboflow) (0.10.0)\n",
      "Requirement already satisfied: requests in /home/skb/miniconda3/envs/jupyolo/lib/python3.10/site-packages (from roboflow) (2.28.2)\n",
      "Requirement already satisfied: python-dotenv in /home/skb/miniconda3/envs/jupyolo/lib/python3.10/site-packages (from roboflow) (1.0.0)\n",
      "Requirement already satisfied: certifi==2022.12.7 in /home/skb/miniconda3/envs/jupyolo/lib/python3.10/site-packages (from roboflow) (2022.12.7)\n",
      "Requirement already satisfied: requests-toolbelt in /home/skb/miniconda3/envs/jupyolo/lib/python3.10/site-packages (from roboflow) (0.10.1)\n",
      "Requirement already satisfied: opencv-python>=4.1.2 in /home/skb/miniconda3/envs/jupyolo/lib/python3.10/site-packages (from roboflow) (4.7.0.72)\n",
      "Requirement already satisfied: six in /home/skb/miniconda3/envs/jupyolo/lib/python3.10/site-packages (from roboflow) (1.16.0)\n",
      "Requirement already satisfied: chardet==4.0.0 in /home/skb/miniconda3/envs/jupyolo/lib/python3.10/site-packages (from roboflow) (4.0.0)\n",
      "Requirement already satisfied: python-dateutil in /home/skb/miniconda3/envs/jupyolo/lib/python3.10/site-packages (from roboflow) (2.8.2)\n",
      "Requirement already satisfied: wget in /home/skb/miniconda3/envs/jupyolo/lib/python3.10/site-packages (from roboflow) (3.2)\n",
      "Requirement already satisfied: packaging>=20.0 in /home/skb/miniconda3/envs/jupyolo/lib/python3.10/site-packages (from matplotlib->roboflow) (23.0)\n",
      "Requirement already satisfied: fonttools>=4.22.0 in /home/skb/miniconda3/envs/jupyolo/lib/python3.10/site-packages (from matplotlib->roboflow) (4.38.0)\n",
      "Requirement already satisfied: contourpy>=1.0.1 in /home/skb/miniconda3/envs/jupyolo/lib/python3.10/site-packages (from matplotlib->roboflow) (1.0.7)\n",
      "Requirement already satisfied: charset-normalizer<4,>=2 in /home/skb/miniconda3/envs/jupyolo/lib/python3.10/site-packages (from requests->roboflow) (3.0.1)\n",
      "loading Roboflow workspace...\n",
      "loading Roboflow project...\n",
      "Downloading Dataset Version Zip in /mnt/d/LocalGit/NTNU_mscThesis/datasets/SeaDronesSee-ODV2-2 to yolov5pytorch: 0% [22790144 / 7481397015] bytes"
     ]
    },
    {
     "ename": "KeyboardInterrupt",
     "evalue": "",
     "output_type": "error",
     "traceback": [
      "\u001b[0;31m---------------------------------------------------------------------------\u001b[0m",
      "\u001b[0;31mKeyboardInterrupt\u001b[0m                         Traceback (most recent call last)",
      "Cell \u001b[0;32mIn[5], line 6\u001b[0m\n\u001b[1;32m      4\u001b[0m rf \u001b[39m=\u001b[39m Roboflow(api_key\u001b[39m=\u001b[39m\u001b[39m\"\u001b[39m\u001b[39m7TYPnJ6nV0x8flbDpjrB\u001b[39m\u001b[39m\"\u001b[39m)\n\u001b[1;32m      5\u001b[0m project \u001b[39m=\u001b[39m rf\u001b[39m.\u001b[39mworkspace(\u001b[39m\"\u001b[39m\u001b[39mntnu-2wibj\u001b[39m\u001b[39m\"\u001b[39m)\u001b[39m.\u001b[39mproject(\u001b[39m\"\u001b[39m\u001b[39mseadronessee-odv2\u001b[39m\u001b[39m\"\u001b[39m)\n\u001b[0;32m----> 6\u001b[0m dataset \u001b[39m=\u001b[39m project\u001b[39m.\u001b[39;49mversion(\u001b[39m2\u001b[39;49m)\u001b[39m.\u001b[39;49mdownload(\u001b[39m\"\u001b[39;49m\u001b[39myolov5\u001b[39;49m\u001b[39m\"\u001b[39;49m)\n",
      "File \u001b[0;32m~/miniconda3/envs/jupyolo/lib/python3.10/site-packages/roboflow/core/version.py:203\u001b[0m, in \u001b[0;36mVersion.download\u001b[0;34m(self, model_format, location, overwrite)\u001b[0m\n\u001b[1;32m    200\u001b[0m         \u001b[39mexcept\u001b[39;00m requests\u001b[39m.\u001b[39mexceptions\u001b[39m.\u001b[39mJSONDecodeError:\n\u001b[1;32m    201\u001b[0m             response\u001b[39m.\u001b[39mraise_for_status()\n\u001b[0;32m--> 203\u001b[0m \u001b[39mself\u001b[39;49m\u001b[39m.\u001b[39;49m__download_zip(link, location, model_format)\n\u001b[1;32m    204\u001b[0m \u001b[39mself\u001b[39m\u001b[39m.\u001b[39m__extract_zip(location, model_format)\n\u001b[1;32m    205\u001b[0m \u001b[39mself\u001b[39m\u001b[39m.\u001b[39m__reformat_yaml(location, model_format)\n",
      "File \u001b[0;32m~/miniconda3/envs/jupyolo/lib/python3.10/site-packages/roboflow/core/version.py:485\u001b[0m, in \u001b[0;36mVersion.__download_zip\u001b[0;34m(self, link, location, format)\u001b[0m\n\u001b[1;32m    482\u001b[0m     sys\u001b[39m.\u001b[39mstdout\u001b[39m.\u001b[39mflush()\n\u001b[1;32m    484\u001b[0m \u001b[39mtry\u001b[39;00m:\n\u001b[0;32m--> 485\u001b[0m     wget\u001b[39m.\u001b[39;49mdownload(link, out\u001b[39m=\u001b[39;49mlocation \u001b[39m+\u001b[39;49m \u001b[39m\"\u001b[39;49m\u001b[39m/roboflow.zip\u001b[39;49m\u001b[39m\"\u001b[39;49m, bar\u001b[39m=\u001b[39;49mbar_progress)\n\u001b[1;32m    486\u001b[0m \u001b[39mexcept\u001b[39;00m \u001b[39mException\u001b[39;00m \u001b[39mas\u001b[39;00m e:\n\u001b[1;32m    487\u001b[0m     \u001b[39mprint\u001b[39m(\u001b[39mf\u001b[39m\u001b[39m\"\u001b[39m\u001b[39mError when trying to download dataset @ \u001b[39m\u001b[39m{\u001b[39;00mlink\u001b[39m}\u001b[39;00m\u001b[39m\"\u001b[39m)\n",
      "File \u001b[0;32m~/miniconda3/envs/jupyolo/lib/python3.10/site-packages/wget.py:526\u001b[0m, in \u001b[0;36mdownload\u001b[0;34m(url, out, bar)\u001b[0m\n\u001b[1;32m    524\u001b[0m \u001b[39melse\u001b[39;00m:\n\u001b[1;32m    525\u001b[0m     binurl \u001b[39m=\u001b[39m url\n\u001b[0;32m--> 526\u001b[0m (tmpfile, headers) \u001b[39m=\u001b[39m ulib\u001b[39m.\u001b[39;49murlretrieve(binurl, tmpfile, callback)\n\u001b[1;32m    527\u001b[0m filename \u001b[39m=\u001b[39m detect_filename(url, out, headers)\n\u001b[1;32m    528\u001b[0m \u001b[39mif\u001b[39;00m outdir:\n",
      "File \u001b[0;32m~/miniconda3/envs/jupyolo/lib/python3.10/urllib/request.py:274\u001b[0m, in \u001b[0;36murlretrieve\u001b[0;34m(url, filename, reporthook, data)\u001b[0m\n\u001b[1;32m    272\u001b[0m     \u001b[39mbreak\u001b[39;00m\n\u001b[1;32m    273\u001b[0m read \u001b[39m+\u001b[39m\u001b[39m=\u001b[39m \u001b[39mlen\u001b[39m(block)\n\u001b[0;32m--> 274\u001b[0m tfp\u001b[39m.\u001b[39;49mwrite(block)\n\u001b[1;32m    275\u001b[0m blocknum \u001b[39m+\u001b[39m\u001b[39m=\u001b[39m \u001b[39m1\u001b[39m\n\u001b[1;32m    276\u001b[0m \u001b[39mif\u001b[39;00m reporthook:\n",
      "\u001b[0;31mKeyboardInterrupt\u001b[0m: "
     ]
    }
   ],
   "source": [
    "!pip install roboflow\n",
    "\n",
    "from roboflow import Roboflow\n",
    "rf = Roboflow(api_key=\"7TYPnJ6nV0x8flbDpjrB\")\n",
    "project = rf.workspace(\"ntnu-2wibj\").project(\"seadronessee-odv2\")\n",
    "dataset = project.version(2).download(\"yolov5\")\n"
   ]
  },
  {
   "cell_type": "code",
   "execution_count": 6,
   "metadata": {},
   "outputs": [
    {
     "name": "stdout",
     "output_type": "stream",
     "text": [
      "/mnt/d/LocalGit/NTNU_mscThesis/SeaDronesSee-ODV2-2\n"
     ]
    }
   ],
   "source": [
    "print(dataset.location)"
   ]
  },
  {
   "cell_type": "code",
   "execution_count": null,
   "metadata": {},
   "outputs": [],
   "source": []
  }
 ],
 "metadata": {
  "kernelspec": {
   "display_name": "jupyolo",
   "language": "python",
   "name": "python3"
  },
  "language_info": {
   "codemirror_mode": {
    "name": "ipython",
    "version": 3
   },
   "file_extension": ".py",
   "mimetype": "text/x-python",
   "name": "python",
   "nbconvert_exporter": "python",
   "pygments_lexer": "ipython3",
   "version": "3.10.9"
  },
  "orig_nbformat": 4
 },
 "nbformat": 4,
 "nbformat_minor": 2
}
